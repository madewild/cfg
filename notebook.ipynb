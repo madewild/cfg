{
  "nbformat": 4,
  "nbformat_minor": 0,
  "metadata": {
    "colab": {
      "name": "TP_CFG.ipynb",
      "provenance": [],
      "collapsed_sections": []
    },
    "kernelspec": {
      "name": "python3",
      "display_name": "Python 3",
      "language": "python"
    },
    "language_info": {
      "name": "python",
      "version": "3.9.0-final"
    }
  },
  "cells": [
    {
      "cell_type": "markdown",
      "metadata": {
        "id": "8Rusxbags3Ee"
      },
      "source": [
        "# 1 - Comprendre l'outil Google Colab\n",
        "\n",
        "Google Colab permet à n'importe qui d'écrire et d'exécuter du code Python dans le navigateur.\n",
        "\n",
        "Un document s'appelle un notebook ; derrière eux se trouvent des serveurs Linux.\n",
        "\n",
        "Les notebooks peuvent être vus comme une succession de cellules.\n",
        "\n",
        "Et ces cellules peuvent contenir trois types de contenu :\n",
        "\n",
        "- Du code Python\n",
        "- Du code Bash : https://en.wikipedia.org/wiki/Bash_(Unix_shell)\n",
        "- Du texte, mis en forme avec du Markdown : https://www.markdownguide.org/cheat-sheet/\n"
      ]
    },
    {
      "cell_type": "markdown",
      "metadata": {
        "id": "naxHFq-1rJRu"
      },
      "source": [
        "# 2 - Installation"
      ]
    },
    {
      "cell_type": "markdown",
      "metadata": {
        "id": "ic0bdX9arRvT"
      },
      "source": [
        "Pour ce TP, vous aurez besoin de Python 3. Vous pouvez vérifier la version de Python du serveur Linux derrière votre notebook en exécutant cette ligne de commande Bash : `!python --version`.\n",
        "\n",
        "\n",
        "*Note : pour que Colab sache qu'il doit exécuter du Bash, ces commandes doivent toujours être précédées d'un point d'exclamation.*"
      ]
    },
    {
      "cell_type": "code",
      "metadata": {
        "colab": {
          "base_uri": "https://localhost:8080/"
        },
        "id": "DQyY7vRGrM3c",
        "outputId": "bd64fc00-3b0c-49ed-c4fa-1173f1ac1e4d"
      },
      "source": [
        "!python --version"
      ],
      "execution_count": null,
      "outputs": []
    },
    {
      "cell_type": "markdown",
      "metadata": {
        "id": "zjWfCDgsrh3m"
      },
      "source": [
        "Installez ensuite ces 3 paquets :\n",
        "\n",
        "1. the Natural Language ToolKit (NLTK) : `pip install nltk`\n",
        "2. Numpy : `pip install numpy`\n",
        "3. Matplotlib : `pip install matplotlib`"
      ]
    },
    {
      "cell_type": "code",
      "metadata": {
        "colab": {
          "base_uri": "https://localhost:8080/"
        },
        "id": "UZojueBWvM3f",
        "outputId": "db573a9f-3b85-4b3f-8ef8-bee912a91efe"
      },
      "source": [
        "!pip install nltk numpy matplotlib"
      ],
      "execution_count": null,
      "outputs": []
    },
    {
      "cell_type": "markdown",
      "metadata": {
        "id": "jX8E8eqjvd-j"
      },
      "source": [
        "# 3 - Familiarisation avec l’outil"
      ]
    },
    {
      "cell_type": "markdown",
      "metadata": {
        "id": "ZRUEBlWWvjEF"
      },
      "source": [
        "## 3.1 - Python\n",
        "\n",
        "Lorsque vous créez une cellule Python, le notebook attend que vous rédigiez du code et l'exécutiez.\n",
        "\n",
        "Commençons par utiliser Python comme calculette.\n",
        "\n",
        "Pour exécuter une cellule de code, vous devez cliquer sur le bouton Play à gauche de votre cellule.\n",
        "\n",
        "Essayez ci-dessous :"
      ]
    },
    {
      "cell_type": "code",
      "metadata": {
        "colab": {
          "base_uri": "https://localhost:8080/"
        },
        "id": "kCekj2UWvbsz",
        "outputId": "8ede1cd7-9586-4a39-fbe4-65b8cc40cfe7"
      },
      "source": [
        "4 * 10 + 2"
      ],
      "execution_count": null,
      "outputs": []
    },
    {
      "cell_type": "markdown",
      "metadata": {
        "id": "I20xKoSTwiV2"
      },
      "source": [
        "Essayez quelques autres calculs avec les opérateurs `+ - *` et `/` par exemple."
      ]
    },
    {
      "cell_type": "code",
      "metadata": {
        "colab": {
          "base_uri": "https://localhost:8080/"
        },
        "id": "hMNe85JgwCej",
        "outputId": "77524aa0-fc4d-42a3-a99a-b094d646341b"
      },
      "source": [
        "86 / 2 - 1"
      ],
      "execution_count": null,
      "outputs": []
    },
    {
      "cell_type": "markdown",
      "metadata": {
        "id": "usKXSMy8wxYJ"
      },
      "source": [
        "Voyons à présent ce qui se passe si l’on tape une expression illogique comme `1 +`:"
      ]
    },
    {
      "cell_type": "code",
      "metadata": {
        "colab": {
          "base_uri": "https://localhost:8080/",
          "height": 130
        },
        "id": "HmQVQRuAwqyY",
        "outputId": "14e4b6d4-832d-4eaf-fb89-bccb571a6c8d"
      },
      "source": [
        "1 +"
      ],
      "execution_count": null,
      "outputs": []
    },
    {
      "cell_type": "markdown",
      "metadata": {
        "id": "HefiW50aw4JC"
      },
      "source": [
        "Python renvoie une **erreur de syntaxe** issue du *standard input* (stdin)."
      ]
    },
    {
      "cell_type": "markdown",
      "metadata": {
        "id": "S1hto5X1xAqp"
      },
      "source": [
        "## 3.2 - NLTK"
      ]
    },
    {
      "cell_type": "markdown",
      "metadata": {
        "id": "7C4d7glCxdPo"
      },
      "source": [
        "Commençons par importer le module NLTK et par télécharger quelques données de test.\n",
        "\n"
      ]
    },
    {
      "cell_type": "code",
      "metadata": {
        "colab": {
          "base_uri": "https://localhost:8080/"
        },
        "id": "zN9z-L4zwztm",
        "outputId": "ce5c1068-7d6a-46d6-a4e3-de883372a73f"
      },
      "source": [
        "import nltk\n",
        "\n",
        "nltk.download('book')"
      ],
      "execution_count": null,
      "outputs": []
    },
    {
      "cell_type": "markdown",
      "metadata": {
        "id": "mJ5xXsJNyqo7"
      },
      "source": [
        "Tapez ensuite la commande suivante pour charger\n",
        "les textes (cela prend quelques secondes) :"
      ]
    },
    {
      "cell_type": "code",
      "metadata": {
        "colab": {
          "base_uri": "https://localhost:8080/"
        },
        "id": "Xs0xb3WHx7vU",
        "outputId": "d2a06c44-34af-4c84-d769-22ce63988632"
      },
      "source": [
        "from nltk.book import *"
      ],
      "execution_count": null,
      "outputs": []
    },
    {
      "cell_type": "markdown",
      "metadata": {
        "id": "lV_vclOxyy1E"
      },
      "source": [
        "Chaque texte porte un nom qui permet de l’invoquer :"
      ]
    },
    {
      "cell_type": "code",
      "metadata": {
        "colab": {
          "base_uri": "https://localhost:8080/"
        },
        "id": "tZqQu1-gx8Kc",
        "outputId": "033b9664-c1fc-431f-c6d8-f6fe78b788f1"
      },
      "source": [
        "text1"
      ],
      "execution_count": null,
      "outputs": []
    },
    {
      "cell_type": "code",
      "metadata": {
        "colab": {
          "base_uri": "https://localhost:8080/"
        },
        "id": "ZzToIUySy0ip",
        "outputId": "cf7ea8ce-f79a-4ba9-b821-1ffa7c8a1261"
      },
      "source": [
        "text2"
      ],
      "execution_count": null,
      "outputs": []
    },
    {
      "cell_type": "markdown",
      "metadata": {
        "id": "wrCemdazy7jA"
      },
      "source": [
        "Nous pouvons à présent explorer ce corpus, par exemple pour chercher toutes les occurrence de\n",
        "l’adjectif monstrous (monstrueux) en contexte dans Moby Dick :"
      ]
    },
    {
      "cell_type": "code",
      "metadata": {
        "colab": {
          "base_uri": "https://localhost:8080/"
        },
        "id": "7lOXSTk-y4oH",
        "outputId": "c5abea7c-1726-4a87-cf90-767092c0ccdc"
      },
      "source": [
        "text1.concordance(\"monstrous\")"
      ],
      "execution_count": null,
      "outputs": []
    },
    {
      "source": [
        "## 3.4 - Construire et tester la grammaire\n",
        "\n",
        "\n",
        "*Note importante*: Vous ne devez pas comprendre le code ci-dessous. L'idée est de montrer comment nous pouvons parser un texte avec une grammaire. Si vous êtes familiers avec Python, n'hésitez pas à utiliser ce code pour tester votre grammaire."
      ],
      "cell_type": "markdown",
      "metadata": {}
    },
    {
      "cell_type": "code",
      "metadata": {
        "id": "MSJdtfrnJoet"
      },
      "source": [
        "from nltk import CFG, ChartParser, wordpunct_tokenize\n",
        "\n",
        "\n",
        "def test_grammar(grammar, sentence):\n",
        "    tokens = wordpunct_tokenize(sentence)\n",
        "    cfg_grammar = CFG.fromstring(grammar)\n",
        "    parser = ChartParser(cfg_grammar)\n",
        "    try:\n",
        "        parser_generator = parser.parse(tokens)\n",
        "        tree_list = [t for t in parser_generator]\n",
        "        print(f'{len(tree_list)} parsing found!\\n'.upper())\n",
        "        for i, tree in enumerate(tree_list):\n",
        "            print(f'---- PARSING {i+1} ----')\n",
        "            tree.pprint()\n",
        "            print()\n",
        "    except ValueError as ve:\n",
        "        print(f'no parsing found!\\n'.upper())\n",
        "        print('>', ve)"
      ],
      "execution_count": null,
      "outputs": []
    },
    {
      "cell_type": "code",
      "metadata": {
        "id": "nm9LvmFiJoet"
      },
      "source": [
        "grammar = \"\"\"\n",
        "S -> NP VP PP | NP VP\n",
        "NP -> Det N | N\n",
        "VP -> V NP PP | V NP\n",
        "PP -> P NP\n",
        "N -> 'John' | 'cake' | 'table'\n",
        "V -> 'ate'\n",
        "Det -> 'the'\n",
        "P -> 'on' \n",
        "\"\"\""
      ],
      "execution_count": null,
      "outputs": []
    },
    {
      "cell_type": "code",
      "execution_count": null,
      "metadata": {},
      "outputs": [],
      "source": [
        "test_grammar(grammar, 'John ate the cake on the table')"
      ]
    },
    {
      "cell_type": "markdown",
      "metadata": {
        "id": "1h_Hjs9mzJJ8"
      },
      "source": [
        "## 3.3 - Chart parser"
      ]
    },
    {
      "cell_type": "code",
      "metadata": {
        "id": "2rTPVaiVy9Ff",
        "outputId": "12bdf7c8-fce6-4857-ad5a-52c94fc25fc5",
        "colab": {
          "base_uri": "https://localhost:8080/",
          "height": 817
        }
      },
      "source": [
        "# Ne fonctionne qu'en local (hors de Colab)\n",
        "\n",
        "nltk.app.chartparser()"
      ],
      "execution_count": null,
      "outputs": []
    },
    {
      "cell_type": "code",
      "execution_count": null,
      "metadata": {},
      "outputs": [],
      "source": []
    }
  ]
}