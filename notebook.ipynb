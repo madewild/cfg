{
  "nbformat": 4,
  "nbformat_minor": 0,
  "metadata": {
    "colab": {
      "name": "TP_CFG.ipynb",
      "provenance": [],
      "collapsed_sections": []
    },
    "kernelspec": {
      "name": "python3",
      "display_name": "Python 3.9.0 64-bit ('.venv': venv)",
      "metadata": {
        "interpreter": {
          "hash": "160a64cc79ccbf17f152326b41f18261174f90a0ad1a23c7682a7ce01b819e16"
        }
      }
    },
    "language_info": {
      "name": "python",
      "version": "3.9.0-final"
    }
  },
  "cells": [
    {
      "cell_type": "markdown",
      "metadata": {
        "id": "8Rusxbags3Ee"
      },
      "source": [
        "# 1 - Comprendre l'outil Google Colab\n",
        "\n",
        "Google Colab permet à n'importe qui d'écrire et d'exécuter du code Python dans le navigateur.\n",
        "\n",
        "Un document s'appelle un notebook ; derrière eux se trouvent des serveurs Linux.\n",
        "\n",
        "Les notebooks peuvent être vus comme une succession de cellules.\n",
        "\n",
        "Et ces cellules peuvent contenir trois types de contenu :\n",
        "\n",
        "- Du code Python\n",
        "- Du code Bash : https://en.wikipedia.org/wiki/Bash_(Unix_shell)\n",
        "- Du texte, mis en forme avec du Markdown : https://www.markdownguide.org/cheat-sheet/\n"
      ]
    },
    {
      "cell_type": "markdown",
      "metadata": {
        "id": "naxHFq-1rJRu"
      },
      "source": [
        "# 2 - Installation"
      ]
    },
    {
      "cell_type": "markdown",
      "metadata": {
        "id": "ic0bdX9arRvT"
      },
      "source": [
        "Pour ce TP, vous aurez besoin de Python 3. Vous pouvez vérifier la version de Python du serveur Linux derrière votre notebook en exécutant cette ligne de commande Bash : `!python --version`.\n",
        "\n",
        "\n",
        "*Note : pour que Colab sache qu'il doit exécuter du Bash, ces commandes doivent toujours être précédées d'un point d'exclamation.*"
      ]
    },
    {
      "cell_type": "code",
      "metadata": {
        "colab": {
          "base_uri": "https://localhost:8080/"
        },
        "id": "DQyY7vRGrM3c",
        "outputId": "ed5db78d-0298-40ef-dea6-62988bc70886"
      },
      "source": [
        "!python --version"
      ],
      "execution_count": 13,
      "outputs": [
        {
          "output_type": "stream",
          "name": "stdout",
          "text": [
            "Python 3.9.0\n"
          ]
        }
      ]
    },
    {
      "cell_type": "markdown",
      "metadata": {
        "id": "zjWfCDgsrh3m"
      },
      "source": [
        "Installez ensuite ces 3 paquets :\n",
        "\n",
        "1. the Natural Language ToolKit (NLTK) : `pip install nltk`\n",
        "2. Numpy : `pip install numpy`\n",
        "3. Matplotlib : `pip install matplotlib`"
      ]
    },
    {
      "cell_type": "code",
      "metadata": {
        "colab": {
          "base_uri": "https://localhost:8080/"
        },
        "id": "UZojueBWvM3f",
        "outputId": "2d10e676-5164-49b2-b306-71afdf51d1d2"
      },
      "source": [
        "!pip install nltk numpy matplotlib"
      ],
      "execution_count": 14,
      "outputs": [
        {
          "output_type": "stream",
          "name": "stdout",
          "text": [
            "Requirement already satisfied: nltk in ./.venv/lib/python3.9/site-packages (3.5)\n",
            "Requirement already satisfied: numpy in ./.venv/lib/python3.9/site-packages (1.20.1)\n",
            "Requirement already satisfied: matplotlib in ./.venv/lib/python3.9/site-packages (3.3.4)\n",
            "Requirement already satisfied: cycler>=0.10 in ./.venv/lib/python3.9/site-packages (from matplotlib) (0.10.0)\n",
            "Requirement already satisfied: kiwisolver>=1.0.1 in ./.venv/lib/python3.9/site-packages (from matplotlib) (1.3.1)\n",
            "Requirement already satisfied: pyparsing!=2.0.4,!=2.1.2,!=2.1.6,>=2.0.3 in ./.venv/lib/python3.9/site-packages (from matplotlib) (2.4.7)\n",
            "Requirement already satisfied: pillow>=6.2.0 in ./.venv/lib/python3.9/site-packages (from matplotlib) (8.1.2)\n",
            "Requirement already satisfied: python-dateutil>=2.1 in ./.venv/lib/python3.9/site-packages (from matplotlib) (2.8.1)\n",
            "Requirement already satisfied: six in ./.venv/lib/python3.9/site-packages (from cycler>=0.10->matplotlib) (1.15.0)\n",
            "Requirement already satisfied: regex in ./.venv/lib/python3.9/site-packages (from nltk) (2021.3.17)\n",
            "Requirement already satisfied: click in ./.venv/lib/python3.9/site-packages (from nltk) (7.1.2)\n",
            "Requirement already satisfied: tqdm in ./.venv/lib/python3.9/site-packages (from nltk) (4.59.0)\n",
            "Requirement already satisfied: joblib in ./.venv/lib/python3.9/site-packages (from nltk) (1.0.1)\n",
            "\u001b[33mWARNING: You are using pip version 21.0; however, version 21.0.1 is available.\n",
            "You should consider upgrading via the '/Users/datalody/Git/cfg/.venv/bin/python -m pip install --upgrade pip' command.\u001b[0m\n"
          ]
        }
      ]
    },
    {
      "cell_type": "code",
      "execution_count": 85,
      "metadata": {},
      "outputs": [
        {
          "output_type": "stream",
          "name": "stdout",
          "text": [
            "Collecting pptree\n",
            "  Downloading pptree-3.1.tar.gz (3.0 kB)\n",
            "Building wheels for collected packages: pptree\n",
            "  Building wheel for pptree (setup.py) ... \u001b[?25ldone\n",
            "\u001b[?25h  Created wheel for pptree: filename=pptree-3.1-py3-none-any.whl size=4629 sha256=8debd8550ca3ff3511d90f536cee9f9543b11688c3ebfd29c4ccc25935d47601\n",
            "  Stored in directory: /Users/datalody/Library/Caches/pip/wheels/52/0e/51/514e690004ea9713bc3fdb678d5e2768fcc597d0c3b6a3abd2\n",
            "Successfully built pptree\n",
            "Installing collected packages: pptree\n",
            "Successfully installed pptree-3.1\n",
            "\u001b[33mWARNING: You are using pip version 21.0; however, version 21.0.1 is available.\n",
            "You should consider upgrading via the '/Users/datalody/Git/cfg/.venv/bin/python -m pip install --upgrade pip' command.\u001b[0m\n"
          ]
        }
      ],
      "source": [
        "!pip install pptree"
      ]
    },
    {
      "cell_type": "markdown",
      "metadata": {
        "id": "jX8E8eqjvd-j"
      },
      "source": [
        "# 3 - Familiarisation avec l’outil"
      ]
    },
    {
      "cell_type": "markdown",
      "metadata": {
        "id": "ZRUEBlWWvjEF"
      },
      "source": [
        "## 3.1 - Python\n",
        "\n",
        "Lorsque vous créez une cellule Python, le notebook attend que vous rédigiez du code et l'exécutiez.\n",
        "\n",
        "Commençons par utiliser Python comme calculette.\n",
        "\n",
        "Pour exécuter une cellule de code, vous devez cliquer sur le bouton Play à gauche de votre cellule.\n",
        "\n",
        "Essayez ci-dessous :"
      ]
    },
    {
      "cell_type": "code",
      "metadata": {
        "colab": {
          "base_uri": "https://localhost:8080/"
        },
        "id": "kCekj2UWvbsz",
        "outputId": "ec2c9a65-51b6-4446-d1c3-ccd575425d4d"
      },
      "source": [
        "4 * 10 + 2"
      ],
      "execution_count": 15,
      "outputs": [
        {
          "output_type": "execute_result",
          "data": {
            "text/plain": [
              "42"
            ]
          },
          "metadata": {},
          "execution_count": 15
        }
      ]
    },
    {
      "cell_type": "markdown",
      "metadata": {
        "id": "I20xKoSTwiV2"
      },
      "source": [
        "Essayez quelques autres calculs avec les opérateurs `+ - *` et `/` par exemple."
      ]
    },
    {
      "cell_type": "code",
      "metadata": {
        "colab": {
          "base_uri": "https://localhost:8080/"
        },
        "id": "hMNe85JgwCej",
        "outputId": "a11920f7-92a5-45a8-b221-8b0e8f433c81"
      },
      "source": [
        "86 / 2 - 1"
      ],
      "execution_count": 16,
      "outputs": [
        {
          "output_type": "execute_result",
          "data": {
            "text/plain": [
              "42.0"
            ]
          },
          "metadata": {},
          "execution_count": 16
        }
      ]
    },
    {
      "cell_type": "markdown",
      "metadata": {
        "id": "usKXSMy8wxYJ"
      },
      "source": [
        "Voyons à présent ce qui se passe si l’on tape une expression illogique comme `1 +`:"
      ]
    },
    {
      "cell_type": "code",
      "metadata": {
        "colab": {
          "base_uri": "https://localhost:8080/",
          "height": 130
        },
        "id": "HmQVQRuAwqyY",
        "outputId": "d62211f7-8f96-4d55-f840-2e8196c9b954"
      },
      "source": [
        "1 +"
      ],
      "execution_count": 17,
      "outputs": [
        {
          "output_type": "error",
          "ename": "SyntaxError",
          "evalue": "invalid syntax (<ipython-input-17-953e01372b97>, line 1)",
          "traceback": [
            "\u001b[0;36m  File \u001b[0;32m\"<ipython-input-17-953e01372b97>\"\u001b[0;36m, line \u001b[0;32m1\u001b[0m\n\u001b[0;31m    1 +\u001b[0m\n\u001b[0m       ^\u001b[0m\n\u001b[0;31mSyntaxError\u001b[0m\u001b[0;31m:\u001b[0m invalid syntax\n"
          ]
        }
      ]
    },
    {
      "cell_type": "markdown",
      "metadata": {
        "id": "HefiW50aw4JC"
      },
      "source": [
        "Python renvoie une **erreur de syntaxe** issue du *standard input* (stdin)."
      ]
    },
    {
      "cell_type": "markdown",
      "metadata": {
        "id": "S1hto5X1xAqp"
      },
      "source": [
        "## 3.2 - NLTK"
      ]
    },
    {
      "cell_type": "markdown",
      "metadata": {
        "id": "7C4d7glCxdPo"
      },
      "source": [
        "Commençons par importer le module NLTK et par télécharger quelques données de test.\n",
        "\n"
      ]
    },
    {
      "cell_type": "code",
      "metadata": {
        "colab": {
          "base_uri": "https://localhost:8080/"
        },
        "id": "zN9z-L4zwztm",
        "outputId": "fb1a84b2-edfb-41cc-da76-5e1fd319c52f"
      },
      "source": [
        "import nltk\n",
        "\n",
        "nltk.download('book')"
      ],
      "execution_count": 18,
      "outputs": [
        {
          "output_type": "stream",
          "name": "stderr",
          "text": [
            "[nltk_data] Downloading collection 'book'\n",
            "[nltk_data]    | \n",
            "[nltk_data]    | Downloading package abc to\n",
            "[nltk_data]    |     /Users/datalody/nltk_data...\n",
            "[nltk_data]    |   Package abc is already up-to-date!\n",
            "[nltk_data]    | Downloading package brown to\n",
            "[nltk_data]    |     /Users/datalody/nltk_data...\n",
            "[nltk_data]    |   Package brown is already up-to-date!\n",
            "[nltk_data]    | Downloading package chat80 to\n",
            "[nltk_data]    |     /Users/datalody/nltk_data...\n",
            "[nltk_data]    |   Package chat80 is already up-to-date!\n",
            "[nltk_data]    | Downloading package cmudict to\n",
            "[nltk_data]    |     /Users/datalody/nltk_data...\n",
            "[nltk_data]    |   Package cmudict is already up-to-date!\n",
            "[nltk_data]    | Downloading package conll2000 to\n",
            "[nltk_data]    |     /Users/datalody/nltk_data...\n",
            "[nltk_data]    |   Package conll2000 is already up-to-date!\n",
            "[nltk_data]    | Downloading package conll2002 to\n",
            "[nltk_data]    |     /Users/datalody/nltk_data...\n",
            "[nltk_data]    |   Package conll2002 is already up-to-date!\n",
            "[nltk_data]    | Downloading package dependency_treebank to\n",
            "[nltk_data]    |     /Users/datalody/nltk_data...\n",
            "[nltk_data]    |   Package dependency_treebank is already up-to-date!\n",
            "[nltk_data]    | Downloading package genesis to\n",
            "[nltk_data]    |     /Users/datalody/nltk_data...\n",
            "[nltk_data]    |   Package genesis is already up-to-date!\n",
            "[nltk_data]    | Downloading package gutenberg to\n",
            "[nltk_data]    |     /Users/datalody/nltk_data...\n",
            "[nltk_data]    |   Package gutenberg is already up-to-date!\n",
            "[nltk_data]    | Downloading package ieer to\n",
            "[nltk_data]    |     /Users/datalody/nltk_data...\n",
            "[nltk_data]    |   Package ieer is already up-to-date!\n",
            "[nltk_data]    | Downloading package inaugural to\n",
            "[nltk_data]    |     /Users/datalody/nltk_data...\n",
            "[nltk_data]    |   Package inaugural is already up-to-date!\n",
            "[nltk_data]    | Downloading package movie_reviews to\n",
            "[nltk_data]    |     /Users/datalody/nltk_data...\n",
            "[nltk_data]    |   Package movie_reviews is already up-to-date!\n",
            "[nltk_data]    | Downloading package nps_chat to\n",
            "[nltk_data]    |     /Users/datalody/nltk_data...\n",
            "[nltk_data]    |   Package nps_chat is already up-to-date!\n",
            "[nltk_data]    | Downloading package names to\n",
            "[nltk_data]    |     /Users/datalody/nltk_data...\n",
            "[nltk_data]    |   Package names is already up-to-date!\n",
            "[nltk_data]    | Downloading package ppattach to\n",
            "[nltk_data]    |     /Users/datalody/nltk_data...\n",
            "[nltk_data]    |   Package ppattach is already up-to-date!\n",
            "[nltk_data]    | Downloading package reuters to\n",
            "[nltk_data]    |     /Users/datalody/nltk_data...\n",
            "[nltk_data]    |   Package reuters is already up-to-date!\n",
            "[nltk_data]    | Downloading package senseval to\n",
            "[nltk_data]    |     /Users/datalody/nltk_data...\n",
            "[nltk_data]    |   Package senseval is already up-to-date!\n",
            "[nltk_data]    | Downloading package state_union to\n",
            "[nltk_data]    |     /Users/datalody/nltk_data...\n",
            "[nltk_data]    |   Package state_union is already up-to-date!\n",
            "[nltk_data]    | Downloading package stopwords to\n",
            "[nltk_data]    |     /Users/datalody/nltk_data...\n",
            "[nltk_data]    |   Package stopwords is already up-to-date!\n",
            "[nltk_data]    | Downloading package swadesh to\n",
            "[nltk_data]    |     /Users/datalody/nltk_data...\n",
            "[nltk_data]    |   Package swadesh is already up-to-date!\n",
            "[nltk_data]    | Downloading package timit to\n",
            "[nltk_data]    |     /Users/datalody/nltk_data...\n",
            "[nltk_data]    |   Package timit is already up-to-date!\n",
            "[nltk_data]    | Downloading package treebank to\n",
            "[nltk_data]    |     /Users/datalody/nltk_data...\n",
            "[nltk_data]    |   Package treebank is already up-to-date!\n",
            "[nltk_data]    | Downloading package toolbox to\n",
            "[nltk_data]    |     /Users/datalody/nltk_data...\n",
            "[nltk_data]    |   Package toolbox is already up-to-date!\n",
            "[nltk_data]    | Downloading package udhr to\n",
            "[nltk_data]    |     /Users/datalody/nltk_data...\n",
            "[nltk_data]    |   Package udhr is already up-to-date!\n",
            "[nltk_data]    | Downloading package udhr2 to\n",
            "[nltk_data]    |     /Users/datalody/nltk_data...\n",
            "[nltk_data]    |   Package udhr2 is already up-to-date!\n",
            "[nltk_data]    | Downloading package unicode_samples to\n",
            "[nltk_data]    |     /Users/datalody/nltk_data...\n",
            "[nltk_data]    |   Package unicode_samples is already up-to-date!\n",
            "[nltk_data]    | Downloading package webtext to\n",
            "[nltk_data]    |     /Users/datalody/nltk_data...\n",
            "[nltk_data]    |   Package webtext is already up-to-date!\n",
            "[nltk_data]    | Downloading package wordnet to\n",
            "[nltk_data]    |     /Users/datalody/nltk_data...\n",
            "[nltk_data]    |   Package wordnet is already up-to-date!\n",
            "[nltk_data]    | Downloading package wordnet_ic to\n",
            "[nltk_data]    |     /Users/datalody/nltk_data...\n",
            "[nltk_data]    |   Package wordnet_ic is already up-to-date!\n",
            "[nltk_data]    | Downloading package words to\n",
            "[nltk_data]    |     /Users/datalody/nltk_data...\n",
            "[nltk_data]    |   Package words is already up-to-date!\n",
            "[nltk_data]    | Downloading package maxent_treebank_pos_tagger to\n",
            "[nltk_data]    |     /Users/datalody/nltk_data...\n",
            "[nltk_data]    |   Package maxent_treebank_pos_tagger is already up-\n",
            "[nltk_data]    |       to-date!\n",
            "[nltk_data]    | Downloading package maxent_ne_chunker to\n",
            "[nltk_data]    |     /Users/datalody/nltk_data...\n",
            "[nltk_data]    |   Package maxent_ne_chunker is already up-to-date!\n",
            "[nltk_data]    | Downloading package universal_tagset to\n",
            "[nltk_data]    |     /Users/datalody/nltk_data...\n",
            "[nltk_data]    |   Package universal_tagset is already up-to-date!\n",
            "[nltk_data]    | Downloading package punkt to\n",
            "[nltk_data]    |     /Users/datalody/nltk_data...\n",
            "[nltk_data]    |   Package punkt is already up-to-date!\n",
            "[nltk_data]    | Downloading package book_grammars to\n",
            "[nltk_data]    |     /Users/datalody/nltk_data...\n",
            "[nltk_data]    |   Package book_grammars is already up-to-date!\n",
            "[nltk_data]    | Downloading package city_database to\n",
            "[nltk_data]    |     /Users/datalody/nltk_data...\n",
            "[nltk_data]    |   Package city_database is already up-to-date!\n",
            "[nltk_data]    | Downloading package tagsets to\n",
            "[nltk_data]    |     /Users/datalody/nltk_data...\n",
            "[nltk_data]    |   Package tagsets is already up-to-date!\n",
            "[nltk_data]    | Downloading package panlex_swadesh to\n",
            "[nltk_data]    |     /Users/datalody/nltk_data...\n",
            "[nltk_data]    |   Package panlex_swadesh is already up-to-date!\n",
            "[nltk_data]    | Downloading package averaged_perceptron_tagger to\n",
            "[nltk_data]    |     /Users/datalody/nltk_data...\n",
            "[nltk_data]    |   Package averaged_perceptron_tagger is already up-\n",
            "[nltk_data]    |       to-date!\n",
            "[nltk_data]    | \n",
            "[nltk_data]  Done downloading collection book\n"
          ]
        },
        {
          "output_type": "execute_result",
          "data": {
            "text/plain": [
              "True"
            ]
          },
          "metadata": {},
          "execution_count": 18
        }
      ]
    },
    {
      "cell_type": "markdown",
      "metadata": {
        "id": "mJ5xXsJNyqo7"
      },
      "source": [
        "Tapez ensuite la commande suivante pour charger\n",
        "les textes (cela prend quelques secondes) :"
      ]
    },
    {
      "cell_type": "code",
      "metadata": {
        "colab": {
          "base_uri": "https://localhost:8080/"
        },
        "id": "Xs0xb3WHx7vU",
        "outputId": "1b89f521-bf06-4ef8-817c-ceefaab5f92f"
      },
      "source": [
        "from nltk.book import *"
      ],
      "execution_count": 19,
      "outputs": []
    },
    {
      "cell_type": "markdown",
      "metadata": {
        "id": "lV_vclOxyy1E"
      },
      "source": [
        "Chaque texte porte un nom qui permet de l’invoquer :"
      ]
    },
    {
      "cell_type": "code",
      "metadata": {
        "colab": {
          "base_uri": "https://localhost:8080/"
        },
        "id": "tZqQu1-gx8Kc",
        "outputId": "c8bbe936-3760-4f18-8ce8-cb34fcea57e8"
      },
      "source": [
        "text1"
      ],
      "execution_count": 20,
      "outputs": [
        {
          "output_type": "execute_result",
          "data": {
            "text/plain": [
              "<Text: Moby Dick by Herman Melville 1851>"
            ]
          },
          "metadata": {},
          "execution_count": 20
        }
      ]
    },
    {
      "cell_type": "code",
      "metadata": {
        "colab": {
          "base_uri": "https://localhost:8080/"
        },
        "id": "ZzToIUySy0ip",
        "outputId": "fc7bc9f3-d46f-48e1-ad25-77d30dd26efe"
      },
      "source": [
        "text2"
      ],
      "execution_count": 21,
      "outputs": [
        {
          "output_type": "execute_result",
          "data": {
            "text/plain": [
              "<Text: Sense and Sensibility by Jane Austen 1811>"
            ]
          },
          "metadata": {},
          "execution_count": 21
        }
      ]
    },
    {
      "cell_type": "markdown",
      "metadata": {
        "id": "wrCemdazy7jA"
      },
      "source": [
        "Nous pouvons à présent explorer ce corpus, par exemple pour chercher toutes les occurrence de\n",
        "l’adjectif monstrous (monstrueux) en contexte dans Moby Dick :"
      ]
    },
    {
      "cell_type": "code",
      "metadata": {
        "colab": {
          "base_uri": "https://localhost:8080/"
        },
        "id": "7lOXSTk-y4oH",
        "outputId": "6148a0b0-b09d-4db5-d0fd-c28519c78d0e"
      },
      "source": [
        "text1.concordance(\"monstrous\")"
      ],
      "execution_count": 22,
      "outputs": [
        {
          "output_type": "stream",
          "name": "stdout",
          "text": [
            "Displaying 11 of 11 matches:\nong the former , one was of a most monstrous size . ... This came towards us , \nON OF THE PSALMS . \" Touching that monstrous bulk of the whale or ork we have r\nll over with a heathenish array of monstrous clubs and spears . Some were thick\nd as you gazed , and wondered what monstrous cannibal and savage could ever hav\nthat has survived the flood ; most monstrous and most mountainous ! That Himmal\nthey might scout at Moby Dick as a monstrous fable , or still worse and more de\nth of Radney .'\" CHAPTER 55 Of the Monstrous Pictures of Whales . I shall ere l\ning Scenes . In connexion with the monstrous pictures of whales , I am strongly\nere to enter upon those still more monstrous stories of them which are to be fo\nght have been rummaged out of this monstrous cabinet there is no telling . But \nof Whale - Bones ; for Whales of a monstrous size are oftentimes cast up dead u\n"
          ]
        }
      ]
    },
    {
      "cell_type": "markdown",
      "metadata": {
        "id": "1h_Hjs9mzJJ8"
      },
      "source": [
        "## 3.3 - Chart parser"
      ]
    },
    {
      "cell_type": "code",
      "execution_count": 27,
      "metadata": {},
      "outputs": [],
      "source": [
        "from nltk import CFG"
      ]
    },
    {
      "cell_type": "code",
      "execution_count": 68,
      "metadata": {},
      "outputs": [],
      "source": [
        "nltk.app.rdparser()"
      ]
    },
    {
      "cell_type": "code",
      "metadata": {
        "id": "2rTPVaiVy9Ff"
      },
      "source": [
        "# Cette ligne de code ne fonctionne que si vous lancez le notebook en local (hors de Colab)\n",
        "nltk.app.chartparser()"
      ],
      "execution_count": 24,
      "outputs": [
        {
          "output_type": "stream",
          "name": "stdout",
          "text": [
            "grammar= (\n",
            "('    ', 'S -> NP VP,')\n",
            "('    ', 'VP -> VP PP,')\n",
            "('    ', 'VP -> V NP,')\n",
            "('    ', 'VP -> V,')\n",
            "('    ', 'NP -> Det N,')\n",
            "('    ', 'NP -> NP PP,')\n",
            "('    ', 'PP -> P NP,')\n",
            "('    ', \"NP -> 'John',\")\n",
            "('    ', \"NP -> 'I',\")\n",
            "('    ', \"Det -> 'the',\")\n",
            "('    ', \"Det -> 'my',\")\n",
            "('    ', \"Det -> 'a',\")\n",
            "('    ', \"N -> 'dog',\")\n",
            "('    ', \"N -> 'cookie',\")\n",
            "('    ', \"N -> 'table',\")\n",
            "('    ', \"N -> 'cake',\")\n",
            "('    ', \"N -> 'fork',\")\n",
            "('    ', \"V -> 'ate',\")\n",
            "('    ', \"V -> 'saw',\")\n",
            "('    ', \"P -> 'on',\")\n",
            "('    ', \"P -> 'under',\")\n",
            "('    ', \"P -> 'with',\")\n",
            ")\n",
            "tokens = ['John', 'ate', 'the', 'cake', 'on', 'the', 'table']\n",
            "Calling \"ChartParserApp(grammar, tokens)\"...\n",
            "[('under',)]\n",
            "[('with',)]\n",
            "[('on',)]\n",
            "[('under',), ('with',)]\n",
            "[('ate',)]\n",
            "[('saw',)]\n",
            "[('cake',)]\n",
            "[('fork',)]\n",
            "[('table',)]\n",
            "[('cake',), ('fork',)]\n",
            "[('cookie',)]\n",
            "[('table',), ('cake',), ('fork',)]\n",
            "[('dog',)]\n",
            "[('cookie',), ('table',), ('cake',), ('fork',)]\n",
            "[('my',)]\n",
            "[('a',)]\n",
            "[('the',)]\n",
            "[('my',), ('a',)]\n",
            "[('John',)]\n",
            "[('I',)]\n",
            "[(Det, N)]\n",
            "[(NP, PP)]\n",
            "[(V, NP)]\n",
            "[(V,)]\n",
            "[(VP, PP)]\n",
            "[(V, NP), (V,)]\n",
            "S [(NP, VP)]\n",
            "VP [(VP, PP), (V, NP), (V,)]\n",
            "NP [(Det, N), (NP, PP)]\n",
            "PP [(P, NP)]\n",
            "NP [('John',), ('I',)]\n",
            "Det [('the',), ('my',), ('a',)]\n",
            "N [('dog',), ('cookie',), ('table',), ('cake',), ('fork',)]\n",
            "V [('ate',), ('saw',)]\n",
            "P [('on',), ('under',), ('with',)]\n"
          ]
        }
      ]
    },
    {
      "cell_type": "code",
      "metadata": {
        "id": "IOag_eeczv5A"
      },
      "source": [
        "sentence = \"John ate the cake on the table\".split()"
      ],
      "execution_count": 97,
      "outputs": []
    },
    {
      "cell_type": "code",
      "execution_count": 126,
      "metadata": {},
      "outputs": [],
      "source": [
        "grammar_str = \"\"\"\n",
        "S -> NP VP PP | NP VP\n",
        "NP -> Det N | N\n",
        "VP -> V NP PP | V NP\n",
        "PP -> P NP\n",
        "N -> 'John' | 'cake' | 'table'\n",
        "V -> 'ate'\n",
        "Det -> 'the'\n",
        "P -> 'on' \n",
        "\"\"\""
      ]
    },
    {
      "cell_type": "code",
      "metadata": {
        "colab": {
          "base_uri": "https://localhost:8080/",
          "height": 1000
        },
        "id": "ECUO1Q1FzMqG",
        "outputId": "634f8cec-8e2c-4699-f0ea-e82e85ecd321"
      },
      "source": [
        "grammar = CFG.fromstring(grammar_str)\n"
      ],
      "execution_count": 127,
      "outputs": []
    },
    {
      "cell_type": "code",
      "metadata": {
        "id": "wRnYZg-k1jAw"
      },
      "source": [
        "parser = nltk.ChartParser(grammar)"
      ],
      "execution_count": 128,
      "outputs": []
    },
    {
      "cell_type": "code",
      "metadata": {
        "id": "-ACTXqqk1_1l",
        "tags": []
      },
      "source": [
        "from pptree import print_tree"
      ],
      "execution_count": 129,
      "outputs": []
    },
    {
      "cell_type": "code",
      "execution_count": 130,
      "metadata": {},
      "outputs": [],
      "source": [
        "gen = parser.parse(sentence)"
      ]
    },
    {
      "cell_type": "code",
      "execution_count": 131,
      "metadata": {},
      "outputs": [],
      "source": [
        "results = [g for g in gen]"
      ]
    },
    {
      "cell_type": "code",
      "execution_count": 132,
      "metadata": {},
      "outputs": [
        {
          "output_type": "execute_result",
          "data": {
            "text/plain": [
              "2"
            ]
          },
          "metadata": {},
          "execution_count": 132
        }
      ],
      "source": [
        "len(results)"
      ]
    },
    {
      "cell_type": "code",
      "execution_count": 139,
      "metadata": {},
      "outputs": [
        {
          "output_type": "execute_result",
          "data": {
            "text/plain": [
              "Tree('S', [Tree('NP', [Tree('N', ['John'])]), Tree('VP', [Tree('V', ['ate']), Tree('NP', [Tree('Det', ['the']), Tree('N', ['cake'])])]), Tree('PP', [Tree('P', ['on']), Tree('NP', [Tree('Det', ['the']), Tree('N', ['table'])])])])"
            ],
            "image/png": "[encoded data removed]"
          },
          "metadata": {},
          "execution_count": 139
        }
      ],
      "source": [
        "results[0]"
      ]
    },
    {
      "cell_type": "code",
      "execution_count": 134,
      "metadata": {},
      "outputs": [
        {
          "output_type": "execute_result",
          "data": {
            "text/plain": [
              "Tree('S', [Tree('NP', [Tree('N', ['John'])]), Tree('VP', [Tree('V', ['ate']), Tree('NP', [Tree('Det', ['the']), Tree('N', ['cake'])]), Tree('PP', [Tree('P', ['on']), Tree('NP', [Tree('Det', ['the']), Tree('N', ['table'])])])])])"
            ],
            "image/png": "[encoded data removed]"
          },
          "metadata": {},
          "execution_count": 134
        }
      ],
      "source": [
        "results[1]"
      ]
    },
    {
      "source": [
        "- https://www.nltk.org/book/ch08.html\n",
        "- https://stackoverflow.com/questions/52107352/how-can-i-pretty-print-a-nltk-tree-object"
      ],
      "cell_type": "markdown",
      "metadata": {}
    }
  ]
}