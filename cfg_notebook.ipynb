{
  "nbformat": 4,
  "nbformat_minor": 0,
  "metadata": {
    "colab": {
      "name": "cfg_notebook.ipynb",
      "provenance": [],
      "collapsed_sections": []
    },
    "kernelspec": {
      "name": "python3",
      "display_name": "Python 3",
      "language": "python"
    },
    "language_info": {
      "name": "python",
      "version": "3.9.0-final"
    }
  },
  "cells": [
    {
      "cell_type": "markdown",
      "source": [
        "# TP 2 - Création d'une grammaire CFG avec NLTK\n",
        "\n"
      ],
      "metadata": {
        "id": "oe3QC70LxNLG"
      }
    },
    {
      "cell_type": "markdown",
      "metadata": {
        "id": "8Rusxbags3Ee"
      },
      "source": [
        "## 1. Comprendre l'outil Google Colab\n",
        "\n",
        "Google Colab permet à n'importe qui d'écrire et d'exécuter du code Python dans le navigateur.\n",
        "\n",
        "Un document s'appelle un notebook ; derrière eux se trouvent des serveurs Linux.\n",
        "\n",
        "Les notebooks peuvent être vus comme une succession de cellules.\n",
        "\n",
        "Et ces cellules peuvent contenir trois types de contenu :\n",
        "\n",
        "- Du code Python\n",
        "- Du code Bash : https://en.wikipedia.org/wiki/Bash_(Unix_shell)\n",
        "- Du texte, mis en forme avec du Markdown : https://www.markdownguide.org/cheat-sheet/\n"
      ]
    },
    {
      "cell_type": "markdown",
      "metadata": {
        "id": "naxHFq-1rJRu"
      },
      "source": [
        "## 2. Installation"
      ]
    },
    {
      "cell_type": "markdown",
      "metadata": {
        "id": "ic0bdX9arRvT"
      },
      "source": [
        "Pour ce TP, vous aurez besoin de Python 3. Vous pouvez vérifier la version de Python du serveur Linux derrière votre notebook en exécutant cette ligne de commande Bash : `!python --version`.\n",
        "\n",
        "\n",
        "*Note : pour que Colab sache qu'il doit exécuter du Bash, ces commandes doivent toujours être précédées d'un point d'exclamation.*"
      ]
    },
    {
      "cell_type": "code",
      "metadata": {
        "id": "DQyY7vRGrM3c"
      },
      "source": [
        "!python --version"
      ],
      "execution_count": null,
      "outputs": []
    },
    {
      "cell_type": "markdown",
      "metadata": {
        "id": "zjWfCDgsrh3m"
      },
      "source": [
        "Installez ensuite ces 3 paquets :\n",
        "\n",
        "1. the Natural Language ToolKit (NLTK) : `pip install nltk`\n",
        "2. Numpy : `pip install numpy`\n",
        "3. Matplotlib : `pip install matplotlib`"
      ]
    },
    {
      "cell_type": "code",
      "metadata": {
        "id": "UZojueBWvM3f"
      },
      "source": [
        "!pip install nltk numpy matplotlib"
      ],
      "execution_count": null,
      "outputs": []
    },
    {
      "cell_type": "markdown",
      "metadata": {
        "id": "jX8E8eqjvd-j"
      },
      "source": [
        "## 3. Familiarisation avec l’outil"
      ]
    },
    {
      "cell_type": "markdown",
      "metadata": {
        "id": "ZRUEBlWWvjEF"
      },
      "source": [
        "### 3.1. Python\n",
        "\n",
        "Lorsque vous créez une cellule Python, le notebook attend que vous rédigiez du code et l'exécutiez.\n",
        "\n",
        "Commençons par utiliser Python comme calculette.\n",
        "\n",
        "Pour exécuter une cellule de code, vous devez cliquer sur le bouton Play à gauche de votre cellule.\n",
        "\n",
        "Essayez ci-dessous :"
      ]
    },
    {
      "cell_type": "code",
      "metadata": {
        "id": "kCekj2UWvbsz"
      },
      "source": [
        "4 * 10 + 2"
      ],
      "execution_count": null,
      "outputs": []
    },
    {
      "cell_type": "markdown",
      "metadata": {
        "id": "I20xKoSTwiV2"
      },
      "source": [
        "Essayez quelques autres calculs avec les opérateurs `+ - *` et `/` par exemple."
      ]
    },
    {
      "cell_type": "code",
      "metadata": {
        "id": "hMNe85JgwCej"
      },
      "source": [
        "86 / 2 - 1"
      ],
      "execution_count": null,
      "outputs": []
    },
    {
      "cell_type": "markdown",
      "metadata": {
        "id": "usKXSMy8wxYJ"
      },
      "source": [
        "Voyons à présent ce qui se passe si l’on tape une expression illogique comme `1 +`:"
      ]
    },
    {
      "cell_type": "code",
      "metadata": {
        "id": "HmQVQRuAwqyY"
      },
      "source": [
        "1 +"
      ],
      "execution_count": null,
      "outputs": []
    },
    {
      "cell_type": "markdown",
      "metadata": {
        "id": "HefiW50aw4JC"
      },
      "source": [
        "Python renvoie une **erreur de syntaxe** issue du *standard input* (stdin)."
      ]
    },
    {
      "cell_type": "markdown",
      "metadata": {
        "id": "S1hto5X1xAqp"
      },
      "source": [
        "### 3.2. NLTK"
      ]
    },
    {
      "cell_type": "markdown",
      "metadata": {
        "id": "7C4d7glCxdPo"
      },
      "source": [
        "Commençons par importer le module NLTK et par télécharger quelques données de test.\n",
        "\n"
      ]
    },
    {
      "cell_type": "code",
      "metadata": {
        "id": "zN9z-L4zwztm"
      },
      "source": [
        "import nltk\n",
        "\n",
        "nltk.download('book')"
      ],
      "execution_count": null,
      "outputs": []
    },
    {
      "cell_type": "markdown",
      "metadata": {
        "id": "mJ5xXsJNyqo7"
      },
      "source": [
        "Tapez ensuite la commande suivante pour charger\n",
        "les textes (cela prend quelques secondes) :"
      ]
    },
    {
      "cell_type": "code",
      "metadata": {
        "id": "Xs0xb3WHx7vU"
      },
      "source": [
        "from nltk.book import *"
      ],
      "execution_count": null,
      "outputs": []
    },
    {
      "cell_type": "markdown",
      "metadata": {
        "id": "lV_vclOxyy1E"
      },
      "source": [
        "Chaque texte porte un nom qui permet de l’invoquer :"
      ]
    },
    {
      "cell_type": "code",
      "metadata": {
        "id": "tZqQu1-gx8Kc"
      },
      "source": [
        "text1"
      ],
      "execution_count": null,
      "outputs": []
    },
    {
      "cell_type": "code",
      "metadata": {
        "id": "ZzToIUySy0ip"
      },
      "source": [
        "text2"
      ],
      "execution_count": null,
      "outputs": []
    },
    {
      "cell_type": "markdown",
      "metadata": {
        "id": "wrCemdazy7jA"
      },
      "source": [
        "Nous pouvons à présent explorer ce corpus, par exemple pour chercher toutes les occurrence de\n",
        "l’adjectif monstrous (monstrueux) en contexte dans Moby Dick :"
      ]
    },
    {
      "cell_type": "code",
      "metadata": {
        "id": "7lOXSTk-y4oH"
      },
      "source": [
        "text1.concordance(\"monstrous\")"
      ],
      "execution_count": null,
      "outputs": []
    },
    {
      "source": [
        "## 4. Construire et utiliser les grammaires CFG\n",
        "\n",
        "*Note importante*: Vous ne devez pas comprendre le code ci-dessous. L'idée est de montrer comment nous pouvons parser un texte avec une grammaire. Si vous êtes familiers avec Python, n'hésitez pas à utiliser ce code pour tester votre grammaire."
      ],
      "cell_type": "markdown",
      "metadata": {
        "id": "D2cD-bxImhAz"
      }
    },
    {
      "cell_type": "code",
      "metadata": {
        "id": "MSJdtfrnJoet"
      },
      "source": [
        "from nltk import CFG, ChartParser, wordpunct_tokenize\n",
        "\n",
        "\n",
        "def test_grammar(grammar, sentence):\n",
        "    tokens = wordpunct_tokenize(sentence)\n",
        "    cfg_grammar = CFG.fromstring(grammar)\n",
        "    parser = ChartParser(cfg_grammar)\n",
        "    try:\n",
        "        parser_generator = parser.parse(tokens)\n",
        "        tree_list = [t for t in parser_generator]\n",
        "        print(f'{len(tree_list)} parsing found!\\n'.upper())\n",
        "        for i, tree in enumerate(tree_list):\n",
        "            print(f'---- PARSING {i+1} ----')\n",
        "            tree.pprint()\n",
        "            print()\n",
        "    except ValueError as ve:\n",
        "        print(f'no parsing found!\\n'.upper())\n",
        "        print('>', ve)"
      ],
      "execution_count": null,
      "outputs": []
    },
    {
      "cell_type": "markdown",
      "source": [
        "### 4.1. Construisez ici votre grammaire"
      ],
      "metadata": {
        "id": "UCAKLOYdpFQr"
      }
    },
    {
      "cell_type": "code",
      "metadata": {
        "id": "nm9LvmFiJoet"
      },
      "source": [
        "grammar = \"\"\"\n",
        "S -> NP VP\n",
        "NP -> Det N | 'I' | 'he' | 'she' | 'Joe'\n",
        "VP -> V NP\n",
        "Det -> 'a' | 'the' | 'my' | 'his'\n",
        "N -> 'elephant' | 'cat' | 'dog' | 'car'\n",
        "V -> 'kicked' | 'followed' | 'shot'\n",
        "\"\"\""
      ],
      "execution_count": null,
      "outputs": []
    },
    {
      "cell_type": "markdown",
      "source": [
        "### 4.2 Testez la sur une phrase"
      ],
      "metadata": {
        "id": "-zkC9hdSpRS-"
      }
    },
    {
      "cell_type": "code",
      "execution_count": null,
      "metadata": {
        "id": "2_pwLRJimhA0"
      },
      "outputs": [],
      "source": [
        "test_grammar(grammar, 'the elephant followed my car')"
      ]
    },
    {
      "cell_type": "markdown",
      "source": [
        "### 4.3. Générez des phrases au hasard à l'aide de votre grammaire"
      ],
      "metadata": {
        "id": "qwJclw1JpVAN"
      }
    },
    {
      "cell_type": "markdown",
      "source": [
        "Pour plus d'infos: https://www.nltk.org/howto/generate.html"
      ],
      "metadata": {
        "id": "WUcN_Wmau0tb"
      }
    },
    {
      "cell_type": "code",
      "execution_count": null,
      "metadata": {
        "id": "rEpxFCjEmhA0"
      },
      "outputs": [],
      "source": [
        "from nltk.parse.generate import generate, demo_grammar\n",
        "from nltk import CFG\n",
        "import random\n",
        "\n",
        "cfg_grammar = CFG.fromstring(grammar)\n",
        "\n",
        "sentences_all = list(generate(cfg_grammar))\n",
        "sentences_sample = random.sample(sentences_all, 10)\n",
        "\n",
        "for sentence in sentences_sample:\n",
        "  print(' '.join(sentence))\n",
        "\n"
      ]
    }
  ]
}